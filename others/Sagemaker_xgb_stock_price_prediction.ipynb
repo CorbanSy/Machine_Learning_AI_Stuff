{
 "cells": [
  {
   "cell_type": "code",
   "execution_count": 1,
   "id": "e9a6f71a",
   "metadata": {},
   "outputs": [],
   "source": [
    "import boto3\n",
    "import uuid\n",
    "s3 = boto3.resource('s3', region_name='us-west-1')"
   ]
  },
  {
   "cell_type": "code",
   "execution_count": 2,
   "id": "8f3655ca",
   "metadata": {},
   "outputs": [
    {
     "name": "stdout",
     "output_type": "stream",
     "text": [
      "S3 bucket has been created successfully\n"
     ]
    }
   ],
   "source": [
    "bucket_name = 'yahoofinancestockprice-' + str(uuid.uuid4())\n",
    "try:\n",
    "    s3.create_bucket(Bucket=bucket_name,CreateBucketConfiguration={'LocationConstraint':'us-west-1'})\n",
    "    print('S3 bucket has been created successfully')\n",
    "except Exception as e:\n",
    "    print('S3 error: ', e)"
   ]
  },
  {
   "cell_type": "code",
   "execution_count": 3,
   "id": "3db61cd9",
   "metadata": {
    "scrolled": true
   },
   "outputs": [
    {
     "name": "stdout",
     "output_type": "stream",
     "text": [
      "Requirement already satisfied: yfinance in /home/ec2-user/anaconda3/envs/python3/lib/python3.10/site-packages (0.2.40)\n",
      "Requirement already satisfied: pandas>=1.3.0 in /home/ec2-user/anaconda3/envs/python3/lib/python3.10/site-packages (from yfinance) (2.2.1)\n",
      "Requirement already satisfied: numpy>=1.16.5 in /home/ec2-user/anaconda3/envs/python3/lib/python3.10/site-packages (from yfinance) (1.22.4)\n",
      "Requirement already satisfied: requests>=2.31 in /home/ec2-user/anaconda3/envs/python3/lib/python3.10/site-packages (from yfinance) (2.31.0)\n",
      "Requirement already satisfied: multitasking>=0.0.7 in /home/ec2-user/anaconda3/envs/python3/lib/python3.10/site-packages (from yfinance) (0.0.11)\n",
      "Requirement already satisfied: lxml>=4.9.1 in /home/ec2-user/anaconda3/envs/python3/lib/python3.10/site-packages (from yfinance) (5.2.2)\n",
      "Requirement already satisfied: platformdirs>=2.0.0 in /home/ec2-user/anaconda3/envs/python3/lib/python3.10/site-packages (from yfinance) (4.2.0)\n",
      "Requirement already satisfied: pytz>=2022.5 in /home/ec2-user/anaconda3/envs/python3/lib/python3.10/site-packages (from yfinance) (2024.1)\n",
      "Requirement already satisfied: frozendict>=2.3.4 in /home/ec2-user/anaconda3/envs/python3/lib/python3.10/site-packages (from yfinance) (2.4.4)\n",
      "Requirement already satisfied: peewee>=3.16.2 in /home/ec2-user/anaconda3/envs/python3/lib/python3.10/site-packages (from yfinance) (3.17.5)\n",
      "Requirement already satisfied: beautifulsoup4>=4.11.1 in /home/ec2-user/anaconda3/envs/python3/lib/python3.10/site-packages (from yfinance) (4.12.3)\n",
      "Requirement already satisfied: html5lib>=1.1 in /home/ec2-user/anaconda3/envs/python3/lib/python3.10/site-packages (from yfinance) (1.1)\n",
      "Requirement already satisfied: soupsieve>1.2 in /home/ec2-user/anaconda3/envs/python3/lib/python3.10/site-packages (from beautifulsoup4>=4.11.1->yfinance) (2.5)\n",
      "Requirement already satisfied: six>=1.9 in /home/ec2-user/anaconda3/envs/python3/lib/python3.10/site-packages (from html5lib>=1.1->yfinance) (1.16.0)\n",
      "Requirement already satisfied: webencodings in /home/ec2-user/anaconda3/envs/python3/lib/python3.10/site-packages (from html5lib>=1.1->yfinance) (0.5.1)\n",
      "Requirement already satisfied: python-dateutil>=2.8.2 in /home/ec2-user/anaconda3/envs/python3/lib/python3.10/site-packages (from pandas>=1.3.0->yfinance) (2.9.0)\n",
      "Requirement already satisfied: tzdata>=2022.7 in /home/ec2-user/anaconda3/envs/python3/lib/python3.10/site-packages (from pandas>=1.3.0->yfinance) (2024.1)\n",
      "Requirement already satisfied: charset-normalizer<4,>=2 in /home/ec2-user/anaconda3/envs/python3/lib/python3.10/site-packages (from requests>=2.31->yfinance) (3.3.2)\n",
      "Requirement already satisfied: idna<4,>=2.5 in /home/ec2-user/anaconda3/envs/python3/lib/python3.10/site-packages (from requests>=2.31->yfinance) (3.6)\n",
      "Requirement already satisfied: urllib3<3,>=1.21.1 in /home/ec2-user/anaconda3/envs/python3/lib/python3.10/site-packages (from requests>=2.31->yfinance) (2.2.1)\n",
      "Requirement already satisfied: certifi>=2017.4.17 in /home/ec2-user/anaconda3/envs/python3/lib/python3.10/site-packages (from requests>=2.31->yfinance) (2024.2.2)\n"
     ]
    },
    {
     "name": "stderr",
     "output_type": "stream",
     "text": [
      "[*********************100%%**********************]  1 of 1 completed\n"
     ]
    },
    {
     "data": {
      "text/html": [
       "<div>\n",
       "<style scoped>\n",
       "    .dataframe tbody tr th:only-of-type {\n",
       "        vertical-align: middle;\n",
       "    }\n",
       "\n",
       "    .dataframe tbody tr th {\n",
       "        vertical-align: top;\n",
       "    }\n",
       "\n",
       "    .dataframe thead th {\n",
       "        text-align: right;\n",
       "    }\n",
       "</style>\n",
       "<table border=\"1\" class=\"dataframe\">\n",
       "  <thead>\n",
       "    <tr style=\"text-align: right;\">\n",
       "      <th></th>\n",
       "      <th>Date</th>\n",
       "      <th>Open</th>\n",
       "      <th>High</th>\n",
       "      <th>Low</th>\n",
       "      <th>Close</th>\n",
       "      <th>Adj Close</th>\n",
       "      <th>Volume</th>\n",
       "    </tr>\n",
       "  </thead>\n",
       "  <tbody>\n",
       "    <tr>\n",
       "      <th>0</th>\n",
       "      <td>2022-01-03</td>\n",
       "      <td>177.830002</td>\n",
       "      <td>182.880005</td>\n",
       "      <td>177.710007</td>\n",
       "      <td>182.009995</td>\n",
       "      <td>179.481110</td>\n",
       "      <td>104487900</td>\n",
       "    </tr>\n",
       "    <tr>\n",
       "      <th>1</th>\n",
       "      <td>2022-01-04</td>\n",
       "      <td>182.630005</td>\n",
       "      <td>182.940002</td>\n",
       "      <td>179.119995</td>\n",
       "      <td>179.699997</td>\n",
       "      <td>177.203232</td>\n",
       "      <td>99310400</td>\n",
       "    </tr>\n",
       "    <tr>\n",
       "      <th>2</th>\n",
       "      <td>2022-01-05</td>\n",
       "      <td>179.610001</td>\n",
       "      <td>180.169998</td>\n",
       "      <td>174.639999</td>\n",
       "      <td>174.919998</td>\n",
       "      <td>172.489594</td>\n",
       "      <td>94537600</td>\n",
       "    </tr>\n",
       "    <tr>\n",
       "      <th>3</th>\n",
       "      <td>2022-01-06</td>\n",
       "      <td>172.699997</td>\n",
       "      <td>175.300003</td>\n",
       "      <td>171.639999</td>\n",
       "      <td>172.000000</td>\n",
       "      <td>169.610214</td>\n",
       "      <td>96904000</td>\n",
       "    </tr>\n",
       "    <tr>\n",
       "      <th>4</th>\n",
       "      <td>2022-01-07</td>\n",
       "      <td>172.889999</td>\n",
       "      <td>174.139999</td>\n",
       "      <td>171.029999</td>\n",
       "      <td>172.169998</td>\n",
       "      <td>169.777832</td>\n",
       "      <td>86709100</td>\n",
       "    </tr>\n",
       "    <tr>\n",
       "      <th>...</th>\n",
       "      <td>...</td>\n",
       "      <td>...</td>\n",
       "      <td>...</td>\n",
       "      <td>...</td>\n",
       "      <td>...</td>\n",
       "      <td>...</td>\n",
       "      <td>...</td>\n",
       "    </tr>\n",
       "    <tr>\n",
       "      <th>496</th>\n",
       "      <td>2023-12-22</td>\n",
       "      <td>195.179993</td>\n",
       "      <td>195.410004</td>\n",
       "      <td>192.970001</td>\n",
       "      <td>193.600006</td>\n",
       "      <td>193.091385</td>\n",
       "      <td>37122800</td>\n",
       "    </tr>\n",
       "    <tr>\n",
       "      <th>497</th>\n",
       "      <td>2023-12-26</td>\n",
       "      <td>193.610001</td>\n",
       "      <td>193.889999</td>\n",
       "      <td>192.830002</td>\n",
       "      <td>193.050003</td>\n",
       "      <td>192.542831</td>\n",
       "      <td>28919300</td>\n",
       "    </tr>\n",
       "    <tr>\n",
       "      <th>498</th>\n",
       "      <td>2023-12-27</td>\n",
       "      <td>192.490005</td>\n",
       "      <td>193.500000</td>\n",
       "      <td>191.089996</td>\n",
       "      <td>193.149994</td>\n",
       "      <td>192.642548</td>\n",
       "      <td>48087700</td>\n",
       "    </tr>\n",
       "    <tr>\n",
       "      <th>499</th>\n",
       "      <td>2023-12-28</td>\n",
       "      <td>194.139999</td>\n",
       "      <td>194.660004</td>\n",
       "      <td>193.169998</td>\n",
       "      <td>193.580002</td>\n",
       "      <td>193.071426</td>\n",
       "      <td>34049900</td>\n",
       "    </tr>\n",
       "    <tr>\n",
       "      <th>500</th>\n",
       "      <td>2023-12-29</td>\n",
       "      <td>193.899994</td>\n",
       "      <td>194.399994</td>\n",
       "      <td>191.729996</td>\n",
       "      <td>192.529999</td>\n",
       "      <td>192.024185</td>\n",
       "      <td>42628800</td>\n",
       "    </tr>\n",
       "  </tbody>\n",
       "</table>\n",
       "<p>501 rows × 7 columns</p>\n",
       "</div>"
      ],
      "text/plain": [
       "          Date        Open        High         Low       Close   Adj Close  \\\n",
       "0   2022-01-03  177.830002  182.880005  177.710007  182.009995  179.481110   \n",
       "1   2022-01-04  182.630005  182.940002  179.119995  179.699997  177.203232   \n",
       "2   2022-01-05  179.610001  180.169998  174.639999  174.919998  172.489594   \n",
       "3   2022-01-06  172.699997  175.300003  171.639999  172.000000  169.610214   \n",
       "4   2022-01-07  172.889999  174.139999  171.029999  172.169998  169.777832   \n",
       "..         ...         ...         ...         ...         ...         ...   \n",
       "496 2023-12-22  195.179993  195.410004  192.970001  193.600006  193.091385   \n",
       "497 2023-12-26  193.610001  193.889999  192.830002  193.050003  192.542831   \n",
       "498 2023-12-27  192.490005  193.500000  191.089996  193.149994  192.642548   \n",
       "499 2023-12-28  194.139999  194.660004  193.169998  193.580002  193.071426   \n",
       "500 2023-12-29  193.899994  194.399994  191.729996  192.529999  192.024185   \n",
       "\n",
       "        Volume  \n",
       "0    104487900  \n",
       "1     99310400  \n",
       "2     94537600  \n",
       "3     96904000  \n",
       "4     86709100  \n",
       "..         ...  \n",
       "496   37122800  \n",
       "497   28919300  \n",
       "498   48087700  \n",
       "499   34049900  \n",
       "500   42628800  \n",
       "\n",
       "[501 rows x 7 columns]"
      ]
     },
     "execution_count": 3,
     "metadata": {},
     "output_type": "execute_result"
    }
   ],
   "source": [
    "!pip install yfinance\n",
    "import pandas as pd\n",
    "from datetime import datetime\n",
    "import yfinance as yf\n",
    "\n",
    "#initialize parameter\n",
    "start_date = datetime(2022, 1, 1)\n",
    "end_date = datetime(2024, 1, 1)\n",
    "\n",
    "#get the data\n",
    "df_data = yf.download('AAPL', start = start_date, end = end_date)\n",
    "\n",
    "df_data.reset_index(inplace=True)\n",
    "\n",
    "df_data"
   ]
  },
  {
   "cell_type": "code",
   "execution_count": 4,
   "id": "886d2708",
   "metadata": {
    "scrolled": true
   },
   "outputs": [],
   "source": [
    "df_data.drop(axis=1, columns=['Adj Close'], inplace=True)\n",
    "df_data.drop(axis=1, columns=['Date'], inplace=True)"
   ]
  },
  {
   "cell_type": "code",
   "execution_count": 5,
   "id": "3f59b313",
   "metadata": {
    "scrolled": false
   },
   "outputs": [
    {
     "data": {
      "text/html": [
       "<div>\n",
       "<style scoped>\n",
       "    .dataframe tbody tr th:only-of-type {\n",
       "        vertical-align: middle;\n",
       "    }\n",
       "\n",
       "    .dataframe tbody tr th {\n",
       "        vertical-align: top;\n",
       "    }\n",
       "\n",
       "    .dataframe thead th {\n",
       "        text-align: right;\n",
       "    }\n",
       "</style>\n",
       "<table border=\"1\" class=\"dataframe\">\n",
       "  <thead>\n",
       "    <tr style=\"text-align: right;\">\n",
       "      <th></th>\n",
       "      <th>Open</th>\n",
       "      <th>High</th>\n",
       "      <th>Low</th>\n",
       "      <th>Close</th>\n",
       "      <th>Volume</th>\n",
       "    </tr>\n",
       "  </thead>\n",
       "  <tbody>\n",
       "    <tr>\n",
       "      <th>0</th>\n",
       "      <td>177.830002</td>\n",
       "      <td>182.880005</td>\n",
       "      <td>177.710007</td>\n",
       "      <td>182.009995</td>\n",
       "      <td>104487900</td>\n",
       "    </tr>\n",
       "    <tr>\n",
       "      <th>1</th>\n",
       "      <td>182.630005</td>\n",
       "      <td>182.940002</td>\n",
       "      <td>179.119995</td>\n",
       "      <td>179.699997</td>\n",
       "      <td>99310400</td>\n",
       "    </tr>\n",
       "    <tr>\n",
       "      <th>2</th>\n",
       "      <td>179.610001</td>\n",
       "      <td>180.169998</td>\n",
       "      <td>174.639999</td>\n",
       "      <td>174.919998</td>\n",
       "      <td>94537600</td>\n",
       "    </tr>\n",
       "    <tr>\n",
       "      <th>3</th>\n",
       "      <td>172.699997</td>\n",
       "      <td>175.300003</td>\n",
       "      <td>171.639999</td>\n",
       "      <td>172.000000</td>\n",
       "      <td>96904000</td>\n",
       "    </tr>\n",
       "    <tr>\n",
       "      <th>4</th>\n",
       "      <td>172.889999</td>\n",
       "      <td>174.139999</td>\n",
       "      <td>171.029999</td>\n",
       "      <td>172.169998</td>\n",
       "      <td>86709100</td>\n",
       "    </tr>\n",
       "    <tr>\n",
       "      <th>...</th>\n",
       "      <td>...</td>\n",
       "      <td>...</td>\n",
       "      <td>...</td>\n",
       "      <td>...</td>\n",
       "      <td>...</td>\n",
       "    </tr>\n",
       "    <tr>\n",
       "      <th>495</th>\n",
       "      <td>196.100006</td>\n",
       "      <td>197.080002</td>\n",
       "      <td>193.500000</td>\n",
       "      <td>194.679993</td>\n",
       "      <td>46482500</td>\n",
       "    </tr>\n",
       "    <tr>\n",
       "      <th>496</th>\n",
       "      <td>195.179993</td>\n",
       "      <td>195.410004</td>\n",
       "      <td>192.970001</td>\n",
       "      <td>193.600006</td>\n",
       "      <td>37122800</td>\n",
       "    </tr>\n",
       "    <tr>\n",
       "      <th>497</th>\n",
       "      <td>193.610001</td>\n",
       "      <td>193.889999</td>\n",
       "      <td>192.830002</td>\n",
       "      <td>193.050003</td>\n",
       "      <td>28919300</td>\n",
       "    </tr>\n",
       "    <tr>\n",
       "      <th>498</th>\n",
       "      <td>192.490005</td>\n",
       "      <td>193.500000</td>\n",
       "      <td>191.089996</td>\n",
       "      <td>193.149994</td>\n",
       "      <td>48087700</td>\n",
       "    </tr>\n",
       "    <tr>\n",
       "      <th>499</th>\n",
       "      <td>194.139999</td>\n",
       "      <td>194.660004</td>\n",
       "      <td>193.169998</td>\n",
       "      <td>193.580002</td>\n",
       "      <td>34049900</td>\n",
       "    </tr>\n",
       "  </tbody>\n",
       "</table>\n",
       "<p>500 rows × 5 columns</p>\n",
       "</div>"
      ],
      "text/plain": [
       "           Open        High         Low       Close     Volume\n",
       "0    177.830002  182.880005  177.710007  182.009995  104487900\n",
       "1    182.630005  182.940002  179.119995  179.699997   99310400\n",
       "2    179.610001  180.169998  174.639999  174.919998   94537600\n",
       "3    172.699997  175.300003  171.639999  172.000000   96904000\n",
       "4    172.889999  174.139999  171.029999  172.169998   86709100\n",
       "..          ...         ...         ...         ...        ...\n",
       "495  196.100006  197.080002  193.500000  194.679993   46482500\n",
       "496  195.179993  195.410004  192.970001  193.600006   37122800\n",
       "497  193.610001  193.889999  192.830002  193.050003   28919300\n",
       "498  192.490005  193.500000  191.089996  193.149994   48087700\n",
       "499  194.139999  194.660004  193.169998  193.580002   34049900\n",
       "\n",
       "[500 rows x 5 columns]"
      ]
     },
     "execution_count": 5,
     "metadata": {},
     "output_type": "execute_result"
    }
   ],
   "source": [
    "df_data_features = df_data.iloc[:-1 , :]\n",
    "df_data_features"
   ]
  },
  {
   "cell_type": "code",
   "execution_count": 6,
   "id": "307a6b5c",
   "metadata": {},
   "outputs": [
    {
     "data": {
      "text/plain": [
       "1      182.630005\n",
       "2      179.610001\n",
       "3      172.699997\n",
       "4      172.889999\n",
       "5      169.080002\n",
       "          ...    \n",
       "496    195.179993\n",
       "497    193.610001\n",
       "498    192.490005\n",
       "499    194.139999\n",
       "500    193.899994\n",
       "Name: Targets, Length: 500, dtype: float64"
      ]
     },
     "execution_count": 6,
     "metadata": {},
     "output_type": "execute_result"
    }
   ],
   "source": [
    "df_data_targets = df_data.iloc[1:, 0].rename(\"Targets\")\n",
    "df_data_targets"
   ]
  },
  {
   "cell_type": "code",
   "execution_count": 7,
   "id": "26fbdb77",
   "metadata": {},
   "outputs": [
    {
     "name": "stderr",
     "output_type": "stream",
     "text": [
      "/tmp/ipykernel_1982/2375105290.py:1: SettingWithCopyWarning: \n",
      "A value is trying to be set on a copy of a slice from a DataFrame.\n",
      "Try using .loc[row_indexer,col_indexer] = value instead\n",
      "\n",
      "See the caveats in the documentation: https://pandas.pydata.org/pandas-docs/stable/user_guide/indexing.html#returning-a-view-versus-a-copy\n",
      "  df_data_features['Target'] = list(df_data_targets)\n"
     ]
    },
    {
     "data": {
      "text/html": [
       "<div>\n",
       "<style scoped>\n",
       "    .dataframe tbody tr th:only-of-type {\n",
       "        vertical-align: middle;\n",
       "    }\n",
       "\n",
       "    .dataframe tbody tr th {\n",
       "        vertical-align: top;\n",
       "    }\n",
       "\n",
       "    .dataframe thead th {\n",
       "        text-align: right;\n",
       "    }\n",
       "</style>\n",
       "<table border=\"1\" class=\"dataframe\">\n",
       "  <thead>\n",
       "    <tr style=\"text-align: right;\">\n",
       "      <th></th>\n",
       "      <th>Target</th>\n",
       "      <th>Open</th>\n",
       "      <th>High</th>\n",
       "      <th>Low</th>\n",
       "      <th>Close</th>\n",
       "      <th>Volume</th>\n",
       "    </tr>\n",
       "  </thead>\n",
       "  <tbody>\n",
       "    <tr>\n",
       "      <th>0</th>\n",
       "      <td>182.630005</td>\n",
       "      <td>177.830002</td>\n",
       "      <td>182.880005</td>\n",
       "      <td>177.710007</td>\n",
       "      <td>182.009995</td>\n",
       "      <td>104487900</td>\n",
       "    </tr>\n",
       "    <tr>\n",
       "      <th>1</th>\n",
       "      <td>179.610001</td>\n",
       "      <td>182.630005</td>\n",
       "      <td>182.940002</td>\n",
       "      <td>179.119995</td>\n",
       "      <td>179.699997</td>\n",
       "      <td>99310400</td>\n",
       "    </tr>\n",
       "    <tr>\n",
       "      <th>2</th>\n",
       "      <td>172.699997</td>\n",
       "      <td>179.610001</td>\n",
       "      <td>180.169998</td>\n",
       "      <td>174.639999</td>\n",
       "      <td>174.919998</td>\n",
       "      <td>94537600</td>\n",
       "    </tr>\n",
       "    <tr>\n",
       "      <th>3</th>\n",
       "      <td>172.889999</td>\n",
       "      <td>172.699997</td>\n",
       "      <td>175.300003</td>\n",
       "      <td>171.639999</td>\n",
       "      <td>172.000000</td>\n",
       "      <td>96904000</td>\n",
       "    </tr>\n",
       "    <tr>\n",
       "      <th>4</th>\n",
       "      <td>169.080002</td>\n",
       "      <td>172.889999</td>\n",
       "      <td>174.139999</td>\n",
       "      <td>171.029999</td>\n",
       "      <td>172.169998</td>\n",
       "      <td>86709100</td>\n",
       "    </tr>\n",
       "    <tr>\n",
       "      <th>...</th>\n",
       "      <td>...</td>\n",
       "      <td>...</td>\n",
       "      <td>...</td>\n",
       "      <td>...</td>\n",
       "      <td>...</td>\n",
       "      <td>...</td>\n",
       "    </tr>\n",
       "    <tr>\n",
       "      <th>495</th>\n",
       "      <td>195.179993</td>\n",
       "      <td>196.100006</td>\n",
       "      <td>197.080002</td>\n",
       "      <td>193.500000</td>\n",
       "      <td>194.679993</td>\n",
       "      <td>46482500</td>\n",
       "    </tr>\n",
       "    <tr>\n",
       "      <th>496</th>\n",
       "      <td>193.610001</td>\n",
       "      <td>195.179993</td>\n",
       "      <td>195.410004</td>\n",
       "      <td>192.970001</td>\n",
       "      <td>193.600006</td>\n",
       "      <td>37122800</td>\n",
       "    </tr>\n",
       "    <tr>\n",
       "      <th>497</th>\n",
       "      <td>192.490005</td>\n",
       "      <td>193.610001</td>\n",
       "      <td>193.889999</td>\n",
       "      <td>192.830002</td>\n",
       "      <td>193.050003</td>\n",
       "      <td>28919300</td>\n",
       "    </tr>\n",
       "    <tr>\n",
       "      <th>498</th>\n",
       "      <td>194.139999</td>\n",
       "      <td>192.490005</td>\n",
       "      <td>193.500000</td>\n",
       "      <td>191.089996</td>\n",
       "      <td>193.149994</td>\n",
       "      <td>48087700</td>\n",
       "    </tr>\n",
       "    <tr>\n",
       "      <th>499</th>\n",
       "      <td>193.899994</td>\n",
       "      <td>194.139999</td>\n",
       "      <td>194.660004</td>\n",
       "      <td>193.169998</td>\n",
       "      <td>193.580002</td>\n",
       "      <td>34049900</td>\n",
       "    </tr>\n",
       "  </tbody>\n",
       "</table>\n",
       "<p>500 rows × 6 columns</p>\n",
       "</div>"
      ],
      "text/plain": [
       "         Target        Open        High         Low       Close     Volume\n",
       "0    182.630005  177.830002  182.880005  177.710007  182.009995  104487900\n",
       "1    179.610001  182.630005  182.940002  179.119995  179.699997   99310400\n",
       "2    172.699997  179.610001  180.169998  174.639999  174.919998   94537600\n",
       "3    172.889999  172.699997  175.300003  171.639999  172.000000   96904000\n",
       "4    169.080002  172.889999  174.139999  171.029999  172.169998   86709100\n",
       "..          ...         ...         ...         ...         ...        ...\n",
       "495  195.179993  196.100006  197.080002  193.500000  194.679993   46482500\n",
       "496  193.610001  195.179993  195.410004  192.970001  193.600006   37122800\n",
       "497  192.490005  193.610001  193.889999  192.830002  193.050003   28919300\n",
       "498  194.139999  192.490005  193.500000  191.089996  193.149994   48087700\n",
       "499  193.899994  194.139999  194.660004  193.169998  193.580002   34049900\n",
       "\n",
       "[500 rows x 6 columns]"
      ]
     },
     "execution_count": 7,
     "metadata": {},
     "output_type": "execute_result"
    }
   ],
   "source": [
    "df_data_features['Target'] = list(df_data_targets)\n",
    "\n",
    "first_column = df_data_features.pop('Target')\n",
    "df_data_features.insert(0, 'Target', first_column)\n",
    "\n",
    "df_data_final = df_data_features\n",
    "df_data_final"
   ]
  },
  {
   "cell_type": "code",
   "execution_count": 8,
   "id": "f79324f3",
   "metadata": {},
   "outputs": [
    {
     "data": {
      "text/html": [
       "<div>\n",
       "<style scoped>\n",
       "    .dataframe tbody tr th:only-of-type {\n",
       "        vertical-align: middle;\n",
       "    }\n",
       "\n",
       "    .dataframe tbody tr th {\n",
       "        vertical-align: top;\n",
       "    }\n",
       "\n",
       "    .dataframe thead th {\n",
       "        text-align: right;\n",
       "    }\n",
       "</style>\n",
       "<table border=\"1\" class=\"dataframe\">\n",
       "  <thead>\n",
       "    <tr style=\"text-align: right;\">\n",
       "      <th></th>\n",
       "      <th>Target</th>\n",
       "      <th>Open</th>\n",
       "      <th>High</th>\n",
       "      <th>Low</th>\n",
       "      <th>Close</th>\n",
       "      <th>Volume</th>\n",
       "    </tr>\n",
       "  </thead>\n",
       "  <tbody>\n",
       "    <tr>\n",
       "      <th>229</th>\n",
       "      <td>148.210007</td>\n",
       "      <td>141.399994</td>\n",
       "      <td>148.720001</td>\n",
       "      <td>140.550003</td>\n",
       "      <td>148.029999</td>\n",
       "      <td>111380900</td>\n",
       "    </tr>\n",
       "    <tr>\n",
       "      <th>337</th>\n",
       "      <td>173.050003</td>\n",
       "      <td>172.479996</td>\n",
       "      <td>173.850006</td>\n",
       "      <td>172.110001</td>\n",
       "      <td>173.500000</td>\n",
       "      <td>55962800</td>\n",
       "    </tr>\n",
       "    <tr>\n",
       "      <th>327</th>\n",
       "      <td>165.190002</td>\n",
       "      <td>165.000000</td>\n",
       "      <td>165.600006</td>\n",
       "      <td>163.889999</td>\n",
       "      <td>165.330002</td>\n",
       "      <td>41949600</td>\n",
       "    </tr>\n",
       "    <tr>\n",
       "      <th>416</th>\n",
       "      <td>187.839996</td>\n",
       "      <td>184.940002</td>\n",
       "      <td>187.850006</td>\n",
       "      <td>184.740005</td>\n",
       "      <td>187.649994</td>\n",
       "      <td>60813900</td>\n",
       "    </tr>\n",
       "    <tr>\n",
       "      <th>306</th>\n",
       "      <td>158.860001</td>\n",
       "      <td>158.830002</td>\n",
       "      <td>161.550003</td>\n",
       "      <td>157.679993</td>\n",
       "      <td>158.929993</td>\n",
       "      <td>67622100</td>\n",
       "    </tr>\n",
       "    <tr>\n",
       "      <th>...</th>\n",
       "      <td>...</td>\n",
       "      <td>...</td>\n",
       "      <td>...</td>\n",
       "      <td>...</td>\n",
       "      <td>...</td>\n",
       "      <td>...</td>\n",
       "    </tr>\n",
       "    <tr>\n",
       "      <th>98</th>\n",
       "      <td>138.429993</td>\n",
       "      <td>140.809998</td>\n",
       "      <td>141.970001</td>\n",
       "      <td>137.330002</td>\n",
       "      <td>140.360001</td>\n",
       "      <td>104132700</td>\n",
       "    </tr>\n",
       "    <tr>\n",
       "      <th>476</th>\n",
       "      <td>189.919998</td>\n",
       "      <td>190.869995</td>\n",
       "      <td>190.899994</td>\n",
       "      <td>189.250000</td>\n",
       "      <td>189.970001</td>\n",
       "      <td>24048300</td>\n",
       "    </tr>\n",
       "    <tr>\n",
       "      <th>322</th>\n",
       "      <td>166.100006</td>\n",
       "      <td>165.089996</td>\n",
       "      <td>165.389999</td>\n",
       "      <td>164.029999</td>\n",
       "      <td>165.229996</td>\n",
       "      <td>41516200</td>\n",
       "    </tr>\n",
       "    <tr>\n",
       "      <th>382</th>\n",
       "      <td>190.229996</td>\n",
       "      <td>190.500000</td>\n",
       "      <td>191.190002</td>\n",
       "      <td>189.779999</td>\n",
       "      <td>190.539993</td>\n",
       "      <td>41342300</td>\n",
       "    </tr>\n",
       "    <tr>\n",
       "      <th>365</th>\n",
       "      <td>184.410004</td>\n",
       "      <td>186.729996</td>\n",
       "      <td>186.990005</td>\n",
       "      <td>184.270004</td>\n",
       "      <td>184.919998</td>\n",
       "      <td>101235600</td>\n",
       "    </tr>\n",
       "  </tbody>\n",
       "</table>\n",
       "<p>500 rows × 6 columns</p>\n",
       "</div>"
      ],
      "text/plain": [
       "         Target        Open        High         Low       Close     Volume\n",
       "229  148.210007  141.399994  148.720001  140.550003  148.029999  111380900\n",
       "337  173.050003  172.479996  173.850006  172.110001  173.500000   55962800\n",
       "327  165.190002  165.000000  165.600006  163.889999  165.330002   41949600\n",
       "416  187.839996  184.940002  187.850006  184.740005  187.649994   60813900\n",
       "306  158.860001  158.830002  161.550003  157.679993  158.929993   67622100\n",
       "..          ...         ...         ...         ...         ...        ...\n",
       "98   138.429993  140.809998  141.970001  137.330002  140.360001  104132700\n",
       "476  189.919998  190.869995  190.899994  189.250000  189.970001   24048300\n",
       "322  166.100006  165.089996  165.389999  164.029999  165.229996   41516200\n",
       "382  190.229996  190.500000  191.190002  189.779999  190.539993   41342300\n",
       "365  184.410004  186.729996  186.990005  184.270004  184.919998  101235600\n",
       "\n",
       "[500 rows x 6 columns]"
      ]
     },
     "execution_count": 8,
     "metadata": {},
     "output_type": "execute_result"
    }
   ],
   "source": [
    "import numpy as np\n",
    "\n",
    "df_randomized = df_data_final.sample(frac=1, random_state=123)\n",
    "df_randomized"
   ]
  },
  {
   "cell_type": "code",
   "execution_count": 9,
   "id": "361e8ed9",
   "metadata": {},
   "outputs": [
    {
     "name": "stdout",
     "output_type": "stream",
     "text": [
      "(400, 6) (100, 6)\n"
     ]
    },
    {
     "name": "stderr",
     "output_type": "stream",
     "text": [
      "/home/ec2-user/anaconda3/envs/python3/lib/python3.10/site-packages/numpy/core/fromnumeric.py:57: FutureWarning: 'DataFrame.swapaxes' is deprecated and will be removed in a future version. Please use 'DataFrame.transpose' instead.\n",
      "  return bound(*args, **kwds)\n"
     ]
    }
   ],
   "source": [
    "train_data, test_data = np.split(df_randomized, [int(0.8*len(df_randomized))])\n",
    "\n",
    "print(train_data.shape, test_data.shape)"
   ]
  },
  {
   "cell_type": "code",
   "execution_count": 10,
   "id": "50a85ec2",
   "metadata": {},
   "outputs": [
    {
     "name": "stdout",
     "output_type": "stream",
     "text": [
      "s3://yahoofinancestockprice-be021548-edd3-40c5-a8fa-f96e9497d6c8/xgboost-as-a-built-in-algo/train/train.csv\n",
      "s3://yahoofinancestockprice-be021548-edd3-40c5-a8fa-f96e9497d6c8/xgboost-as-a-built-in-algo/test/test.csv\n"
     ]
    }
   ],
   "source": [
    "import os\n",
    "\n",
    "prefix = 'xgboost-as-a-built-in-algo'\n",
    "\n",
    "train_csv_path = 's3://{}/{}/{}/{}'.format(bucket_name, prefix, 'train', 'train.csv')\n",
    "test_csv_path = 's3://{}/{}/{}/{}'.format(bucket_name, prefix, 'test', 'test.csv')\n",
    "\n",
    "print(train_csv_path)\n",
    "print(test_csv_path)"
   ]
  },
  {
   "cell_type": "code",
   "execution_count": null,
   "id": "58e1965b",
   "metadata": {},
   "outputs": [],
   "source": [
    "Reference: https://docs.aws.amazon.com/sagemaker/latest/dg/xgboost.html"
   ]
  },
  {
   "cell_type": "code",
   "execution_count": 12,
   "id": "3ef9f38c",
   "metadata": {},
   "outputs": [
    {
     "name": "stderr",
     "output_type": "stream",
     "text": [
      "/home/ec2-user/anaconda3/envs/python3/lib/python3.10/site-packages/fsspec/registry.py:275: UserWarning: Your installed version of s3fs is very old and known to cause\n",
      "severe performance issues, see also https://github.com/dask/dask/issues/10276\n",
      "\n",
      "To fix, you should specify a lower version bound on s3fs, or\n",
      "update the current installation.\n",
      "\n",
      "  warnings.warn(s3_msg)\n"
     ]
    }
   ],
   "source": [
    "train_data.to_csv(train_csv_path, index = False, header = False)\n",
    "test_data.to_csv(test_csv_path, index = False, header = False)"
   ]
  },
  {
   "cell_type": "code",
   "execution_count": 14,
   "id": "1ebd50a4",
   "metadata": {},
   "outputs": [
    {
     "name": "stdout",
     "output_type": "stream",
     "text": [
      "sagemaker.config INFO - Not applying SDK defaults from location: /etc/xdg/sagemaker/config.yaml\n",
      "sagemaker.config INFO - Not applying SDK defaults from location: /home/ec2-user/.config/sagemaker/config.yaml\n"
     ]
    }
   ],
   "source": [
    "import sagemaker\n",
    "from sagemaker import image_uris\n",
    "from sagemaker.session import Session\n",
    "from sagemaker.inputs import TrainingInput"
   ]
  },
  {
   "cell_type": "code",
   "execution_count": 15,
   "id": "69d3625c",
   "metadata": {},
   "outputs": [
    {
     "data": {
      "text/plain": [
       "'746614075791.dkr.ecr.us-west-1.amazonaws.com/sagemaker-xgboost:1.2-2'"
      ]
     },
     "metadata": {},
     "output_type": "display_data"
    }
   ],
   "source": [
    "xgboost_container = image_uris.retrieve(\"xgboost\", boto3.Session().region_name, \"1.2-2\")\n",
    "\n",
    "display(xgboost_container)"
   ]
  },
  {
   "cell_type": "code",
   "execution_count": 16,
   "id": "9b57f3d4",
   "metadata": {},
   "outputs": [],
   "source": [
    "hyperparameters = {\n",
    "    \"max_depth\":\"5\",\n",
    "    \"eta\":\"0.2\",\n",
    "    \"gamma\":\"4\",\n",
    "    \"min_child_weight\":\"6\",\n",
    "    \"subsample\":\"0.7\",\n",
    "    \"objective\":\"reg:squarederror\",\n",
    "    \"early_stopping_rounds\":10,\n",
    "    \"num_round\":1000\n",
    "}"
   ]
  },
  {
   "cell_type": "code",
   "execution_count": 17,
   "id": "cc1de009",
   "metadata": {},
   "outputs": [
    {
     "name": "stdout",
     "output_type": "stream",
     "text": [
      "s3://yahoofinancestockprice-be021548-edd3-40c5-a8fa-f96e9497d6c8/xgboost-as-a-built-in-algo/output/\n"
     ]
    }
   ],
   "source": [
    "# first {} is bucket name\n",
    "# second {} is prefix\n",
    "# output folder\n",
    "output_path = 's3://{}/{}/{}/'.format(bucket_name, prefix, 'output')\n",
    "\n",
    "print(output_path)"
   ]
  },
  {
   "cell_type": "code",
   "execution_count": 18,
   "id": "2e05ee4c",
   "metadata": {},
   "outputs": [],
   "source": [
    "estimator = sagemaker.estimator.Estimator(image_uri = xgboost_container,\n",
    "                                          hyperparameters = hyperparameters,\n",
    "                                          role = sagemaker.get_execution_role(),\n",
    "                                          instance_count = 1,\n",
    "                                          instance_type = 'ml.m4.xlarge',\n",
    "                                          volume_size = 5, #5 GB\n",
    "                                          output_path = output_path,\n",
    "                                          use_spot_instances = True,\n",
    "                                          max_run = 300,\n",
    "                                          max_wait = 600\n",
    "                                         )"
   ]
  },
  {
   "cell_type": "code",
   "execution_count": 19,
   "id": "f57d2cfc",
   "metadata": {},
   "outputs": [],
   "source": [
    "content_type = \"csv\"\n",
    "train_input = TrainingInput(\"s3://{}/{}/{}/\".format(bucket_name, prefix, 'train'), content_type=content_type)\n",
    "test_input = TrainingInput(\"s3://{}/{}/{}/\".format(bucket_name, prefix, 'test'), content_type=content_type)"
   ]
  },
  {
   "cell_type": "code",
   "execution_count": 20,
   "id": "6ac49e0e",
   "metadata": {},
   "outputs": [
    {
     "name": "stderr",
     "output_type": "stream",
     "text": [
      "INFO:sagemaker:Creating training-job with name: sagemaker-xgboost-2024-06-04-12-29-35-532\n"
     ]
    },
    {
     "name": "stdout",
     "output_type": "stream",
     "text": [
      "2024-06-04 12:29:35 Starting - Starting the training job...\n",
      "2024-06-04 12:30:04 Starting - Preparing the instances for training......\n",
      "2024-06-04 12:30:44 Downloading - Downloading input data...\n",
      "2024-06-04 12:31:15 Downloading - Downloading the training image.....\u001b[34m[2024-06-04 12:32:19.146 ip-10-0-152-138.us-west-1.compute.internal:7 INFO utils.py:27] RULE_JOB_STOP_SIGNAL_FILENAME: None\u001b[0m\n",
      "\u001b[34m[2024-06-04:12:32:19:INFO] Imported framework sagemaker_xgboost_container.training\u001b[0m\n",
      "\u001b[34m[2024-06-04:12:32:19:INFO] Failed to parse hyperparameter objective value reg:squarederror to Json.\u001b[0m\n",
      "\u001b[34mReturning the value itself\u001b[0m\n",
      "\u001b[34m[2024-06-04:12:32:19:INFO] No GPUs detected (normal if no gpus installed)\u001b[0m\n",
      "\u001b[34m[2024-06-04:12:32:19:INFO] Running XGBoost Sagemaker in algorithm mode\u001b[0m\n",
      "\u001b[34m[2024-06-04:12:32:19:INFO] Determined delimiter of CSV input is ','\u001b[0m\n",
      "\u001b[34m[2024-06-04:12:32:19:INFO] Determined delimiter of CSV input is ','\u001b[0m\n",
      "\u001b[34m[2024-06-04:12:32:19:INFO] Determined delimiter of CSV input is ','\u001b[0m\n",
      "\u001b[34m[2024-06-04:12:32:19:INFO] Determined delimiter of CSV input is ','\u001b[0m\n",
      "\u001b[34m[2024-06-04:12:32:19:INFO] Single node training.\u001b[0m\n",
      "\u001b[34m[2024-06-04:12:32:19:INFO] Train matrix has 400 rows and 5 columns\u001b[0m\n",
      "\u001b[34m[2024-06-04:12:32:19:INFO] Validation matrix has 100 rows\u001b[0m\n",
      "\u001b[34m[2024-06-04 12:32:19.247 ip-10-0-152-138.us-west-1.compute.internal:7 INFO json_config.py:91] Creating hook from json_config at /opt/ml/input/config/debughookconfig.json.\u001b[0m\n",
      "\u001b[34m[2024-06-04 12:32:19.247 ip-10-0-152-138.us-west-1.compute.internal:7 INFO hook.py:201] tensorboard_dir has not been set for the hook. SMDebug will not be exporting tensorboard summaries.\u001b[0m\n",
      "\u001b[34m[2024-06-04 12:32:19.248 ip-10-0-152-138.us-west-1.compute.internal:7 INFO profiler_config_parser.py:102] User has disabled profiler.\u001b[0m\n",
      "\u001b[34m[2024-06-04 12:32:19.248 ip-10-0-152-138.us-west-1.compute.internal:7 INFO hook.py:255] Saving to /opt/ml/output/tensors\u001b[0m\n",
      "\u001b[34m[2024-06-04 12:32:19.249 ip-10-0-152-138.us-west-1.compute.internal:7 INFO state_store.py:77] The checkpoint config file /opt/ml/input/config/checkpointconfig.json does not exist.\u001b[0m\n",
      "\u001b[34m[2024-06-04:12:32:19:INFO] Debug hook created from config\u001b[0m\n",
      "\u001b[34m[0]#011train-rmse:131.01901#011validation-rmse:133.14887\u001b[0m\n",
      "\u001b[34m[2024-06-04 12:32:19.252 ip-10-0-152-138.us-west-1.compute.internal:7 INFO hook.py:423] Monitoring the collections: metrics\u001b[0m\n",
      "\u001b[34m[2024-06-04 12:32:19.254 ip-10-0-152-138.us-west-1.compute.internal:7 INFO hook.py:486] Hook is writing from the hook with pid: 7\u001b[0m\n",
      "\u001b[34m[1]#011train-rmse:105.02393#011validation-rmse:106.85581\u001b[0m\n",
      "\u001b[34m[2]#011train-rmse:84.26656#011validation-rmse:85.87160\u001b[0m\n",
      "\u001b[34m[3]#011train-rmse:67.66758#011validation-rmse:69.07671\u001b[0m\n",
      "\u001b[34m[4]#011train-rmse:54.34482#011validation-rmse:55.63788\u001b[0m\n",
      "\u001b[34m[5]#011train-rmse:43.63511#011validation-rmse:44.67942\u001b[0m\n",
      "\u001b[34m[6]#011train-rmse:35.06799#011validation-rmse:35.86933\u001b[0m\n",
      "\u001b[34m[7]#011train-rmse:28.16579#011validation-rmse:28.78773\u001b[0m\n",
      "\u001b[34m[8]#011train-rmse:22.67484#011validation-rmse:23.24914\u001b[0m\n",
      "\u001b[34m[9]#011train-rmse:18.25738#011validation-rmse:18.72081\u001b[0m\n",
      "\u001b[34m[10]#011train-rmse:14.68463#011validation-rmse:15.05293\u001b[0m\n",
      "\u001b[34m[11]#011train-rmse:11.84313#011validation-rmse:12.12362\u001b[0m\n",
      "\u001b[34m[12]#011train-rmse:9.55434#011validation-rmse:9.80995\u001b[0m\n",
      "\u001b[34m[13]#011train-rmse:7.74111#011validation-rmse:7.97732\u001b[0m\n",
      "\u001b[34m[14]#011train-rmse:6.30867#011validation-rmse:6.56995\u001b[0m\n",
      "\u001b[34m[15]#011train-rmse:5.17220#011validation-rmse:5.41721\u001b[0m\n",
      "\u001b[34m[16]#011train-rmse:4.27661#011validation-rmse:4.52878\u001b[0m\n",
      "\u001b[34m[17]#011train-rmse:3.55588#011validation-rmse:3.84394\u001b[0m\n",
      "\u001b[34m[18]#011train-rmse:3.01549#011validation-rmse:3.34540\u001b[0m\n",
      "\u001b[34m[19]#011train-rmse:2.56775#011validation-rmse:2.99695\u001b[0m\n",
      "\u001b[34m[20]#011train-rmse:2.24442#011validation-rmse:2.71917\u001b[0m\n",
      "\u001b[34m[21]#011train-rmse:1.98087#011validation-rmse:2.50267\u001b[0m\n",
      "\u001b[34m[22]#011train-rmse:1.80608#011validation-rmse:2.37841\u001b[0m\n",
      "\u001b[34m[23]#011train-rmse:1.67468#011validation-rmse:2.32292\u001b[0m\n",
      "\u001b[34m[24]#011train-rmse:1.57431#011validation-rmse:2.27217\u001b[0m\n",
      "\u001b[34m[25]#011train-rmse:1.49546#011validation-rmse:2.27458\u001b[0m\n",
      "\u001b[34m[26]#011train-rmse:1.44421#011validation-rmse:2.25655\u001b[0m\n",
      "\u001b[34m[27]#011train-rmse:1.39982#011validation-rmse:2.23861\u001b[0m\n",
      "\u001b[34m[28]#011train-rmse:1.37203#011validation-rmse:2.22801\u001b[0m\n",
      "\u001b[34m[29]#011train-rmse:1.35032#011validation-rmse:2.22850\u001b[0m\n",
      "\u001b[34m[30]#011train-rmse:1.32959#011validation-rmse:2.22582\u001b[0m\n",
      "\u001b[34m[31]#011train-rmse:1.29526#011validation-rmse:2.21175\u001b[0m\n",
      "\u001b[34m[32]#011train-rmse:1.27816#011validation-rmse:2.21440\u001b[0m\n",
      "\u001b[34m[33]#011train-rmse:1.26349#011validation-rmse:2.21344\u001b[0m\n",
      "\u001b[34m[34]#011train-rmse:1.24639#011validation-rmse:2.22433\u001b[0m\n",
      "\u001b[34m[35]#011train-rmse:1.21982#011validation-rmse:2.21802\u001b[0m\n",
      "\u001b[34m[36]#011train-rmse:1.21380#011validation-rmse:2.21630\u001b[0m\n",
      "\u001b[34m[37]#011train-rmse:1.20408#011validation-rmse:2.22244\u001b[0m\n",
      "\u001b[34m[38]#011train-rmse:1.17760#011validation-rmse:2.22124\u001b[0m\n",
      "\u001b[34m[39]#011train-rmse:1.15578#011validation-rmse:2.21327\u001b[0m\n",
      "\u001b[34m[40]#011train-rmse:1.15122#011validation-rmse:2.20597\u001b[0m\n",
      "\u001b[34m[41]#011train-rmse:1.14382#011validation-rmse:2.21214\u001b[0m\n",
      "\u001b[34m[42]#011train-rmse:1.12942#011validation-rmse:2.19659\u001b[0m\n",
      "\u001b[34m[43]#011train-rmse:1.11379#011validation-rmse:2.20730\u001b[0m\n",
      "\u001b[34m[44]#011train-rmse:1.10536#011validation-rmse:2.21472\u001b[0m\n",
      "\u001b[34m[45]#011train-rmse:1.09892#011validation-rmse:2.21438\u001b[0m\n",
      "\u001b[34m[46]#011train-rmse:1.08904#011validation-rmse:2.21909\u001b[0m\n",
      "\u001b[34m[47]#011train-rmse:1.08294#011validation-rmse:2.21660\u001b[0m\n",
      "\u001b[34m[48]#011train-rmse:1.06216#011validation-rmse:2.21400\u001b[0m\n",
      "\u001b[34m[49]#011train-rmse:1.04825#011validation-rmse:2.21490\u001b[0m\n",
      "\u001b[34m[50]#011train-rmse:1.04105#011validation-rmse:2.21561\u001b[0m\n",
      "\u001b[34m[51]#011train-rmse:1.02926#011validation-rmse:2.21995\u001b[0m\n",
      "\u001b[34m[52]#011train-rmse:1.02569#011validation-rmse:2.21449\u001b[0m\n",
      "\n",
      "2024-06-04 12:32:26 Training - Training image download completed. Training in progress.\n",
      "2024-06-04 12:32:26 Uploading - Uploading generated training model\n",
      "2024-06-04 12:32:39 Completed - Training job completed\n",
      "Training seconds: 115\n",
      "Billable seconds: 49\n",
      "Managed Spot Training savings: 57.4%\n"
     ]
    }
   ],
   "source": [
    "estimator.fit({'train': train_input, 'validation': test_input})"
   ]
  },
  {
   "cell_type": "code",
   "execution_count": 21,
   "id": "ffc937ed",
   "metadata": {},
   "outputs": [
    {
     "name": "stderr",
     "output_type": "stream",
     "text": [
      "INFO:sagemaker:Creating model with name: sagemaker-xgboost-2024-06-06-09-55-48-733\n",
      "INFO:sagemaker:Creating endpoint-config with name sagemaker-xgboost-2024-06-06-09-55-48-733\n",
      "INFO:sagemaker:Creating endpoint with name sagemaker-xgboost-2024-06-06-09-55-48-733\n"
     ]
    },
    {
     "name": "stdout",
     "output_type": "stream",
     "text": [
      "------!"
     ]
    }
   ],
   "source": [
    "from sagemaker.serializers import CSVSerializer\n",
    "\n",
    "xgb_predictor = estimator.deploy(initial_instance_count = 1, instance_type='ml.m4.xlarge', serializer=CSVSerializer())\n"
   ]
  },
  {
   "cell_type": "code",
   "execution_count": 22,
   "id": "b7358c2d",
   "metadata": {},
   "outputs": [
    {
     "data": {
      "text/plain": [
       "'sagemaker-xgboost-2024-06-06-09-55-48-733'"
      ]
     },
     "execution_count": 22,
     "metadata": {},
     "output_type": "execute_result"
    }
   ],
   "source": [
    "xgb_predictor.endpoint_name"
   ]
  },
  {
   "cell_type": "code",
   "execution_count": 23,
   "id": "548a9a4c",
   "metadata": {},
   "outputs": [
    {
     "name": "stderr",
     "output_type": "stream",
     "text": [
      "[*********************100%%**********************]  1 of 1 completed\n"
     ]
    },
    {
     "data": {
      "text/html": [
       "<div>\n",
       "<style scoped>\n",
       "    .dataframe tbody tr th:only-of-type {\n",
       "        vertical-align: middle;\n",
       "    }\n",
       "\n",
       "    .dataframe tbody tr th {\n",
       "        vertical-align: top;\n",
       "    }\n",
       "\n",
       "    .dataframe thead th {\n",
       "        text-align: right;\n",
       "    }\n",
       "</style>\n",
       "<table border=\"1\" class=\"dataframe\">\n",
       "  <thead>\n",
       "    <tr style=\"text-align: right;\">\n",
       "      <th></th>\n",
       "      <th>Date</th>\n",
       "      <th>Open</th>\n",
       "      <th>High</th>\n",
       "      <th>Low</th>\n",
       "      <th>Close</th>\n",
       "      <th>Adj Close</th>\n",
       "      <th>Volume</th>\n",
       "    </tr>\n",
       "  </thead>\n",
       "  <tbody>\n",
       "    <tr>\n",
       "      <th>0</th>\n",
       "      <td>2023-01-04</td>\n",
       "      <td>126.889999</td>\n",
       "      <td>128.660004</td>\n",
       "      <td>125.080002</td>\n",
       "      <td>126.360001</td>\n",
       "      <td>125.327507</td>\n",
       "      <td>89113600</td>\n",
       "    </tr>\n",
       "  </tbody>\n",
       "</table>\n",
       "</div>"
      ],
      "text/plain": [
       "        Date        Open        High         Low       Close   Adj Close  \\\n",
       "0 2023-01-04  126.889999  128.660004  125.080002  126.360001  125.327507   \n",
       "\n",
       "     Volume  \n",
       "0  89113600  "
      ]
     },
     "execution_count": 23,
     "metadata": {},
     "output_type": "execute_result"
    }
   ],
   "source": [
    "#initialize parameters\n",
    "start_date = datetime(2023, 1, 4)\n",
    "end_date = datetime(2023, 1, 5)\n",
    "\n",
    "#get the data\n",
    "df_data = yf.download('AAPL', start = start_date, end = end_date)\n",
    "df_data.reset_index(inplace=True)\n",
    "df_data"
   ]
  },
  {
   "cell_type": "code",
   "execution_count": 25,
   "id": "05f93da9",
   "metadata": {},
   "outputs": [
    {
     "data": {
      "text/plain": [
       "array([[1.26889999e+02, 1.28660004e+02, 1.25080002e+02, 1.26360001e+02,\n",
       "        8.91136000e+07]])"
      ]
     },
     "execution_count": 25,
     "metadata": {},
     "output_type": "execute_result"
    }
   ],
   "source": [
    "df_data.drop(axis=1, columns=['Adj Close'], inplace=True)\n",
    "df_data.drop(axis=1, columns=['Date'], inplace=True)\n",
    "\n",
    "data_features_array = df_data.values\n",
    "data_features_array"
   ]
  },
  {
   "cell_type": "code",
   "execution_count": 27,
   "id": "a93213a4",
   "metadata": {},
   "outputs": [
    {
     "data": {
      "text/plain": [
       "'128.92034912109375\\n'"
      ]
     },
     "execution_count": 27,
     "metadata": {},
     "output_type": "execute_result"
    }
   ],
   "source": [
    "Y_pred_Fcn = xgb_predictor.predict(data_features_array).decode('utf-8')\n",
    "print(Y_pred_Fcn, type(Y_pred_Fcn))"
   ]
  },
  {
   "cell_type": "code",
   "execution_count": 29,
   "id": "5be733ba",
   "metadata": {},
   "outputs": [
    {
     "name": "stdout",
     "output_type": "stream",
     "text": [
      "126.889999,128.660004,125.080002,126.360001,89113600.0 <class 'str'>\n",
      "128.92034912109375\n",
      " <class 'str'>\n"
     ]
    }
   ],
   "source": [
    "from sagemaker.serializers import CSVSerializer\n",
    "\n",
    "Serialized_Input_Fcn = CSVSerializer().serialize([[1.26889999e+02, 1.28660004e+02, 1.25080002e+02, 1.26360001e+02,\n",
    "        8.91136000e+07]])\n",
    "\n",
    "print(Serialized_Input_Fcn, type(Serialized_Input_Fcn))\n",
    "\n",
    "Y_pred_Fcn = xgb_predictor.predict(data_features_array).decode('utf-8')\n",
    "print(Y_pred_Fcn, type(Y_pred_Fcn))"
   ]
  },
  {
   "cell_type": "code",
   "execution_count": 31,
   "id": "59fc86ae",
   "metadata": {},
   "outputs": [
    {
     "name": "stdout",
     "output_type": "stream",
     "text": [
      "126.889999, 128.660004, 125.080002, 126.360001, 89113600.0 <class 'str'>\n"
     ]
    },
    {
     "data": {
      "text/plain": [
       "'128.92034912109375\\n'"
      ]
     },
     "execution_count": 31,
     "metadata": {},
     "output_type": "execute_result"
    }
   ],
   "source": [
    "Input = [[1.26889999e+02, 1.28660004e+02, 1.25080002e+02, 1.26360001e+02, 8.91136000e+07], \n",
    "        [1.26889999e+02, 1.28660004e+02, 1.25080002e+02, 1.26360001e+02, 8.91136000e+07], \n",
    "        [1.26889999e+02, 1.28660004e+02, 1.25080002e+02, 1.26360001e+02, 8.91136000e+07]]\n",
    "Serialized_Input = ', '.join(map(str, Input[0]))\n",
    "\n",
    "print(Serialized_Input, type(Serialized_Input))\n",
    "\n",
    "Y_pred = xgb_predictor.predict(Serialized_Input).decode('utf-8')\n",
    "Y_pred"
   ]
  },
  {
   "cell_type": "code",
   "execution_count": 35,
   "id": "c2150f96",
   "metadata": {},
   "outputs": [
    {
     "data": {
      "text/plain": [
       "['128.92034912109375\\n', '128.92034912109375\\n', '128.92034912109375\\n']"
      ]
     },
     "execution_count": 35,
     "metadata": {},
     "output_type": "execute_result"
    }
   ],
   "source": [
    "import boto3\n",
    "\n",
    "ENDPOINT_NAME = 'sagemaker-xgboost-2024-06-06-09-55-48-733'\n",
    "runtime = boto3.client('runtime.sagemaker')\n",
    "\n",
    "def lambda_handler(event, context):\n",
    "    inputs = event['data']\n",
    "    \n",
    "    result = []\n",
    "    \n",
    "    for input in inputs:\n",
    "        serialized_input = ', '.join(map(str, input))\n",
    "    \n",
    "        response = runtime.invoke_endpoint(EndpointName = ENDPOINT_NAME,\n",
    "                                     ContentType = 'text/csv',\n",
    "                                     Body = serialized_input)\n",
    "    \n",
    "        result.append(response['Body'].read().decode())\n",
    "    \n",
    "    return result"
   ]
  },
  {
   "cell_type": "code",
   "execution_count": null,
   "id": "8cc9fd88",
   "metadata": {},
   "outputs": [],
   "source": [
    "Input_json = { \"data\":\n",
    "        [[1.26889999e+02, 1.28660004e+02, 1.25080002e+02, 1.26360001e+02, 8.91136000e+07], \n",
    "        [1.26889999e+02, 1.28660004e+02, 1.25080002e+02, 1.26360001e+02, 8.91136000e+07], \n",
    "        [1.26889999e+02, 1.28660004e+02, 1.25080002e+02, 1.26360001e+02, 8.91136000e+07]\n",
    "        ]\n",
    "}\n",
    "\n",
    "result = lambda_handler(Input_json, __)\n",
    "result"
   ]
  },
  {
   "cell_type": "code",
   "execution_count": 36,
   "id": "e42b5294",
   "metadata": {},
   "outputs": [],
   "source": [
    "#importing the requests library\n",
    "import requests\n",
    "\n",
    "#defining the api-endpoint\n",
    "API_ENDPOINT = \"https://zqt11le4w9.execute-api.us-west-1.amazonaws.com/xgbmodel\"\n",
    "\n",
    "#data to be sent to api\n",
    "json = {\"data\":[[1.26889999e+02, 1.28660004e+02, 1.25080002e+02, 1.26360001e+02, 8.91136000e+07], \n",
    "        [1.26889999e+02, 1.28660004e+02, 1.25080002e+02, 1.26360001e+02, 8.91136000e+07], \n",
    "        [1.26889999e+02, 1.28660004e+02, 1.25080002e+02, 1.26360001e+02, 8.91136000e+07]]\n",
    "       }\n",
    "\n",
    "#sending post request and saving response as response object\n",
    "r = requests.post(url = API_ENDPOINT, json = json)\n"
   ]
  },
  {
   "cell_type": "code",
   "execution_count": 39,
   "id": "d82fbe1f",
   "metadata": {},
   "outputs": [
    {
     "name": "stdout",
     "output_type": "stream",
     "text": [
      "Status Code: 200, Response: ['128.92034912109375\\n', '128.92034912109375\\n', '128.92034912109375\\n']\n"
     ]
    }
   ],
   "source": [
    "print(f\"Status Code: {r.status_code}, Response: {r.json()}\")"
   ]
  },
  {
   "cell_type": "code",
   "execution_count": null,
   "id": "270e5dd3",
   "metadata": {},
   "outputs": [],
   "source": []
  }
 ],
 "metadata": {
  "kernelspec": {
   "display_name": "conda_python3",
   "language": "python",
   "name": "conda_python3"
  },
  "language_info": {
   "codemirror_mode": {
    "name": "ipython",
    "version": 3
   },
   "file_extension": ".py",
   "mimetype": "text/x-python",
   "name": "python",
   "nbconvert_exporter": "python",
   "pygments_lexer": "ipython3",
   "version": "3.10.14"
  }
 },
 "nbformat": 4,
 "nbformat_minor": 5
}
